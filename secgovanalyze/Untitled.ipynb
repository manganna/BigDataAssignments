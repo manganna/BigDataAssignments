{
 "cells": [
  {
   "cell_type": "code",
   "execution_count": 1,
   "metadata": {
    "collapsed": false
   },
   "outputs": [
    {
     "name": "stderr",
     "output_type": "stream",
     "text": [
      "Loading required package: ggplot2\n",
      "\n",
      "Attaching package: ‘plotly’\n",
      "\n",
      "The following object is masked from ‘package:ggplot2’:\n",
      "\n",
      "    last_plot\n",
      "\n",
      "The following object is masked from ‘package:stats’:\n",
      "\n",
      "    filter\n",
      "\n",
      "The following object is masked from ‘package:graphics’:\n",
      "\n",
      "    layout\n",
      "\n",
      "\n",
      "Attaching package: ‘dplyr’\n",
      "\n",
      "The following objects are masked from ‘package:stats’:\n",
      "\n",
      "    filter, lag\n",
      "\n",
      "The following objects are masked from ‘package:base’:\n",
      "\n",
      "    intersect, setdiff, setequal, union\n",
      "\n"
     ]
    }
   ],
   "source": [
    "# To parse XML documents\n",
    "library(XBRL)\n",
    "old_o <- options(stringsAsFactors = FALSE)\n",
    "# To visualize results\n",
    "library(plotly)\n",
    "library(ggplot2)\n",
    "# To analyze balance sheets\n",
    "library(finstr)\n",
    "# Data munging\n",
    "library(dplyr)\n"
   ]
  },
  {
   "cell_type": "code",
   "execution_count": null,
   "metadata": {
    "collapsed": true
   },
   "outputs": [],
   "source": [
    "#FB forms\n",
    "fb_url2015 <-'https://raw.githubusercontent.com/mr-karan/BigDataAssignments/master/secgovanalyze/fb/2015/fb-20141231.xml'\n",
    "fb_url2016 <- 'https://raw.githubusercontent.com/mr-karan/BigDataAssignments/master/secgovanalyze/fb/2016/fb-20151231.xml'\n",
    "fb_2015 <- xbrlDoAll(fb_url2015)\n",
    "fb_2016 <- xbrlDoAll(fb_url2016)\n"
   ]
  },
  {
   "cell_type": "code",
   "execution_count": null,
   "metadata": {
    "collapsed": true
   },
   "outputs": [],
   "source": []
  }
 ],
 "metadata": {
  "kernelspec": {
   "display_name": "R",
   "language": "R",
   "name": "ir"
  },
  "language_info": {
   "codemirror_mode": "r",
   "file_extension": ".r",
   "mimetype": "text/x-r-source",
   "name": "R",
   "pygments_lexer": "r",
   "version": "3.3.2"
  }
 },
 "nbformat": 4,
 "nbformat_minor": 1
}
